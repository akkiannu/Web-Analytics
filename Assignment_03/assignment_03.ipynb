{
 "cells": [
  {
   "cell_type": "code",
   "execution_count": 882,
   "metadata": {},
   "outputs": [],
   "source": [
    "import pandas as pd\n",
    "import datetime as dt\n",
    "import matplotlib.pyplot as plt\n",
    "import re"
   ]
  },
  {
   "cell_type": "code",
   "execution_count": 883,
   "metadata": {},
   "outputs": [],
   "source": [
    "page_reviews = pd.read_json('reviews.json').sort_index()"
   ]
  },
  {
   "cell_type": "code",
   "execution_count": 884,
   "metadata": {
    "scrolled": true
   },
   "outputs": [
    {
     "data": {
      "text/html": [
       "<div>\n",
       "<style scoped>\n",
       "    .dataframe tbody tr th:only-of-type {\n",
       "        vertical-align: middle;\n",
       "    }\n",
       "\n",
       "    .dataframe tbody tr th {\n",
       "        vertical-align: top;\n",
       "    }\n",
       "\n",
       "    .dataframe thead th {\n",
       "        text-align: right;\n",
       "    }\n",
       "</style>\n",
       "<table border=\"1\" class=\"dataframe\">\n",
       "  <thead>\n",
       "    <tr style=\"text-align: right;\">\n",
       "      <th></th>\n",
       "      <th>Author</th>\n",
       "      <th>Comment(s)</th>\n",
       "      <th>Date</th>\n",
       "      <th>Rating</th>\n",
       "      <th>Review</th>\n",
       "      <th>Title</th>\n",
       "    </tr>\n",
       "  </thead>\n",
       "  <tbody>\n",
       "    <tr>\n",
       "      <th>0</th>\n",
       "      <td>Trogdor</td>\n",
       "      <td></td>\n",
       "      <td>2018-04-08</td>\n",
       "      <td>4.0 out of 5 stars</td>\n",
       "      <td>FYI, to get it to switch modes, you turn it of...</td>\n",
       "      <td>Obnoxious strobe/flashing mode you can't avoid...</td>\n",
       "    </tr>\n",
       "    <tr>\n",
       "      <th>1</th>\n",
       "      <td>Martoman</td>\n",
       "      <td></td>\n",
       "      <td>2018-04-08</td>\n",
       "      <td>5.0 out of 5 stars</td>\n",
       "      <td>I absolutely LOVE these mini flashlights. They...</td>\n",
       "      <td>A Golden Pair of Mini Flashlights - YOU HAVE T...</td>\n",
       "    </tr>\n",
       "    <tr>\n",
       "      <th>2</th>\n",
       "      <td>daniel</td>\n",
       "      <td></td>\n",
       "      <td>2018-04-08</td>\n",
       "      <td>5.0 out of 5 stars</td>\n",
       "      <td>Excellent led , portable</td>\n",
       "      <td>Five Stars</td>\n",
       "    </tr>\n",
       "    <tr>\n",
       "      <th>3</th>\n",
       "      <td>Däch</td>\n",
       "      <td></td>\n",
       "      <td>2018-04-08</td>\n",
       "      <td>4.0 out of 5 stars</td>\n",
       "      <td>They are quite bright and seem to be solidly c...</td>\n",
       "      <td>Smaller than they look</td>\n",
       "    </tr>\n",
       "    <tr>\n",
       "      <th>4</th>\n",
       "      <td>Heather</td>\n",
       "      <td></td>\n",
       "      <td>2018-04-08</td>\n",
       "      <td>5.0 out of 5 stars</td>\n",
       "      <td>When I click the button it shines brightly</td>\n",
       "      <td>Five Stars</td>\n",
       "    </tr>\n",
       "  </tbody>\n",
       "</table>\n",
       "</div>"
      ],
      "text/plain": [
       "     Author Comment(s)       Date              Rating  \\\n",
       "0   Trogdor            2018-04-08  4.0 out of 5 stars   \n",
       "1  Martoman            2018-04-08  5.0 out of 5 stars   \n",
       "2    daniel            2018-04-08  5.0 out of 5 stars   \n",
       "3      Däch            2018-04-08  4.0 out of 5 stars   \n",
       "4   Heather            2018-04-08  5.0 out of 5 stars   \n",
       "\n",
       "                                              Review  \\\n",
       "0  FYI, to get it to switch modes, you turn it of...   \n",
       "1  I absolutely LOVE these mini flashlights. They...   \n",
       "2                           Excellent led , portable   \n",
       "3  They are quite bright and seem to be solidly c...   \n",
       "4         When I click the button it shines brightly   \n",
       "\n",
       "                                               Title  \n",
       "0  Obnoxious strobe/flashing mode you can't avoid...  \n",
       "1  A Golden Pair of Mini Flashlights - YOU HAVE T...  \n",
       "2                                         Five Stars  \n",
       "3                             Smaller than they look  \n",
       "4                                         Five Stars  "
      ]
     },
     "execution_count": 884,
     "metadata": {},
     "output_type": "execute_result"
    }
   ],
   "source": [
    "page_reviews.head()"
   ]
  },
  {
   "cell_type": "markdown",
   "metadata": {},
   "source": [
    "#### Removing the Regex values before starting any EDA's:"
   ]
  },
  {
   "cell_type": "code",
   "execution_count": 885,
   "metadata": {},
   "outputs": [],
   "source": [
    "import regex as re\n",
    "for sentence in page_reviews['Review']:\n",
    "        sentence=re.sub(u\"(\\u2018|\\u2019)\", \"'\",sentence)"
   ]
  },
  {
   "cell_type": "code",
   "execution_count": 886,
   "metadata": {},
   "outputs": [
    {
     "data": {
      "text/html": [
       "<div>\n",
       "<style scoped>\n",
       "    .dataframe tbody tr th:only-of-type {\n",
       "        vertical-align: middle;\n",
       "    }\n",
       "\n",
       "    .dataframe tbody tr th {\n",
       "        vertical-align: top;\n",
       "    }\n",
       "\n",
       "    .dataframe thead th {\n",
       "        text-align: right;\n",
       "    }\n",
       "</style>\n",
       "<table border=\"1\" class=\"dataframe\">\n",
       "  <thead>\n",
       "    <tr style=\"text-align: right;\">\n",
       "      <th></th>\n",
       "      <th>Author</th>\n",
       "      <th>Comment(s)</th>\n",
       "      <th>Date</th>\n",
       "      <th>Rating</th>\n",
       "      <th>Review</th>\n",
       "      <th>Title</th>\n",
       "    </tr>\n",
       "  </thead>\n",
       "  <tbody>\n",
       "    <tr>\n",
       "      <th>69</th>\n",
       "      <td>Chip Johnson</td>\n",
       "      <td>One person found this helpful.</td>\n",
       "      <td>2018-02-17</td>\n",
       "      <td>1.0 out of 5 stars</td>\n",
       "      <td>Price is too good to be true. Don’t expect the...</td>\n",
       "      <td>Faulty, low quality</td>\n",
       "    </tr>\n",
       "  </tbody>\n",
       "</table>\n",
       "</div>"
      ],
      "text/plain": [
       "          Author                      Comment(s)       Date  \\\n",
       "69  Chip Johnson  One person found this helpful. 2018-02-17   \n",
       "\n",
       "                Rating                                             Review  \\\n",
       "69  1.0 out of 5 stars  Price is too good to be true. Don’t expect the...   \n",
       "\n",
       "                  Title  \n",
       "69  Faulty, low quality  "
      ]
     },
     "execution_count": 886,
     "metadata": {},
     "output_type": "execute_result"
    }
   ],
   "source": [
    "page_reviews[page_reviews['Author']=='Chip Johnson']"
   ]
  },
  {
   "cell_type": "code",
   "execution_count": 887,
   "metadata": {},
   "outputs": [],
   "source": [
    "%matplotlib inline"
   ]
  },
  {
   "cell_type": "markdown",
   "metadata": {},
   "source": [
    "#### Getting only the numerical value of the rating and converting to float:"
   ]
  },
  {
   "cell_type": "code",
   "execution_count": 888,
   "metadata": {},
   "outputs": [],
   "source": [
    "page_reviews['Review']=page_reviews['Review'].apply(lambda x: x.strip('\\n'))"
   ]
  },
  {
   "cell_type": "code",
   "execution_count": 889,
   "metadata": {},
   "outputs": [],
   "source": [
    "page_reviews['Rating'] = page_reviews['Rating'].apply(lambda x: x[:3])"
   ]
  },
  {
   "cell_type": "code",
   "execution_count": 890,
   "metadata": {},
   "outputs": [],
   "source": [
    "page_reviews['Rating'] = page_reviews['Rating'].apply(lambda x: float(x))"
   ]
  },
  {
   "cell_type": "code",
   "execution_count": 891,
   "metadata": {},
   "outputs": [
    {
     "data": {
      "text/plain": [
       "<matplotlib.axes._subplots.AxesSubplot at 0x21309ec1c18>"
      ]
     },
     "execution_count": 891,
     "metadata": {},
     "output_type": "execute_result"
    },
    {
     "data": {
      "image/png": "[encoded data removed]",
      "text/plain": [
       "<Figure size 432x288 with 1 Axes>"
      ]
     },
     "metadata": {},
     "output_type": "display_data"
    }
   ],
   "source": [
    "page_reviews['Rating'].hist()"
   ]
  },
  {
   "cell_type": "markdown",
   "metadata": {},
   "source": [
    "#### Plotting a histogram to see if any seasonality pattern exists"
   ]
  },
  {
   "cell_type": "code",
   "execution_count": 892,
   "metadata": {},
   "outputs": [],
   "source": [
    "page_reviews['Month']=page_reviews['Date'].dt.month"
   ]
  },
  {
   "cell_type": "code",
   "execution_count": 893,
   "metadata": {},
   "outputs": [
    {
     "data": {
      "text/plain": [
       "(array([108.,  73.,  96., 123., 116.,  84., 104.,  77., 131.,  96., 150.,\n",
       "        122.]),\n",
       " array([ 1.        ,  1.91666667,  2.83333333,  3.75      ,  4.66666667,\n",
       "         5.58333333,  6.5       ,  7.41666667,  8.33333333,  9.25      ,\n",
       "        10.16666667, 11.08333333, 12.        ]),\n",
       " <a list of 12 Patch objects>)"
      ]
     },
     "execution_count": 893,
     "metadata": {},
     "output_type": "execute_result"
    },
    {
     "data": {
      "image/png": "[encoded data removed]",
      "text/plain": [
       "<Figure size 432x288 with 1 Axes>"
      ]
     },
     "metadata": {},
     "output_type": "display_data"
    }
   ],
   "source": [
    "plt.hist(page_reviews['Month'], bins=12)"
   ]
  },
  {
   "cell_type": "code",
   "execution_count": 894,
   "metadata": {},
   "outputs": [
    {
     "data": {
      "text/plain": [
       "11    150\n",
       "9     131\n",
       "4     123\n",
       "12    122\n",
       "5     116\n",
       "1     108\n",
       "7     104\n",
       "10     96\n",
       "3      96\n",
       "6      84\n",
       "8      77\n",
       "2      73\n",
       "Name: Month, dtype: int64"
      ]
     },
     "execution_count": 894,
     "metadata": {},
     "output_type": "execute_result"
    }
   ],
   "source": [
    "page_reviews['Month'].value_counts()"
   ]
  },
  {
   "cell_type": "markdown",
   "metadata": {},
   "source": [
    "#### Checking to see how the distribution of the reviews is as per the ratings"
   ]
  },
  {
   "cell_type": "code",
   "execution_count": 895,
   "metadata": {},
   "outputs": [],
   "source": [
    "page_reviews['Review_length'] = page_reviews['Review'].apply(lambda x: len(x))"
   ]
  },
  {
   "cell_type": "code",
   "execution_count": 896,
   "metadata": {},
   "outputs": [],
   "source": [
    "import seaborn as sns"
   ]
  },
  {
   "cell_type": "code",
   "execution_count": 897,
   "metadata": {},
   "outputs": [
    {
     "data": {
      "text/plain": [
       "<seaborn.axisgrid.FacetGrid at 0x21309f55898>"
      ]
     },
     "execution_count": 897,
     "metadata": {},
     "output_type": "execute_result"
    },
    {
     "data": {
      "image/png": "[encoded data removed]",
      "text/plain": [
       "<Figure size 1080x216 with 5 Axes>"
      ]
     },
     "metadata": {},
     "output_type": "display_data"
    }
   ],
   "source": [
    "g = sns.FacetGrid(data=page_reviews, col='Rating')\n",
    "g.map(plt.hist, 'Review_length', bins=50)"
   ]
  },
  {
   "cell_type": "markdown",
   "metadata": {},
   "source": [
    "#### Creating labels"
   ]
  },
  {
   "cell_type": "code",
   "execution_count": 898,
   "metadata": {
    "scrolled": false
   },
   "outputs": [
    {
     "name": "stderr",
     "output_type": "stream",
     "text": [
      "C:\\Users\\Akshay\\AppData\\Local\\conda\\conda\\envs\\machinelearning\\lib\\site-packages\\ipykernel_launcher.py:2: SettingWithCopyWarning: \n",
      "A value is trying to be set on a copy of a slice from a DataFrame\n",
      "\n",
      "See the caveats in the documentation: http://pandas.pydata.org/pandas-docs/stable/indexing.html#indexing-view-versus-copy\n",
      "  \n",
      "C:\\Users\\Akshay\\AppData\\Local\\conda\\conda\\envs\\machinelearning\\lib\\site-packages\\ipykernel_launcher.py:3: SettingWithCopyWarning: \n",
      "A value is trying to be set on a copy of a slice from a DataFrame\n",
      "\n",
      "See the caveats in the documentation: http://pandas.pydata.org/pandas-docs/stable/indexing.html#indexing-view-versus-copy\n",
      "  This is separate from the ipykernel package so we can avoid doing imports until\n"
     ]
    }
   ],
   "source": [
    "page_reviews['Class']='class'\n",
    "page_reviews['Class'][page_reviews['Rating']>3]='High'\n",
    "page_reviews['Class'][page_reviews['Rating']<=3]='Low'"
   ]
  },
  {
   "cell_type": "markdown",
   "metadata": {},
   "source": [
    "#### Splitting test and train dataset using stratified sampling so the distribution is even according to the ratings"
   ]
  },
  {
   "cell_type": "code",
   "execution_count": 899,
   "metadata": {},
   "outputs": [],
   "source": [
    "from sklearn.model_selection import StratifiedShuffleSplit\n",
    "\n",
    "split = StratifiedShuffleSplit(n_splits=1, test_size=0.2, random_state=42)\n",
    "for train_index, test_index in split.split(page_reviews, page_reviews['Rating']):\n",
    "    strat_train_set = page_reviews.loc[train_index]\n",
    "    strat_test_set = page_reviews.loc[test_index]"
   ]
  },
  {
   "cell_type": "code",
   "execution_count": 900,
   "metadata": {},
   "outputs": [],
   "source": [
    "page_rev_label=strat_test_set['Class']\n",
    "page_rev_test_dat=strat_test_set.drop('Class',axis=1)"
   ]
  },
  {
   "cell_type": "code",
   "execution_count": 901,
   "metadata": {},
   "outputs": [],
   "source": [
    "page_reviews=strat_train_set.copy()"
   ]
  },
  {
   "cell_type": "markdown",
   "metadata": {},
   "source": [
    "#### Cleaning the reviews"
   ]
  },
  {
   "cell_type": "code",
   "execution_count": 902,
   "metadata": {},
   "outputs": [],
   "source": [
    "import spacy\n",
    "import nltk"
   ]
  },
  {
   "cell_type": "code",
   "execution_count": 903,
   "metadata": {},
   "outputs": [],
   "source": [
    "nlp = spacy.load('en')"
   ]
  },
  {
   "cell_type": "code",
   "execution_count": 904,
   "metadata": {},
   "outputs": [],
   "source": [
    "words= set(nltk.corpus.words.words())"
   ]
  },
  {
   "cell_type": "code",
   "execution_count": 905,
   "metadata": {},
   "outputs": [],
   "source": [
    "stop_words = {'flash', 'flashlight','-PRON-','light','what','other','be','do','not'}\n",
    "def pre_process_statements(sentences, stop_words=stop_words):\n",
    "    preprocessed_sentences=[]\n",
    "    keep_types = {'NOUN', 'ADJ','VERB','ADV'}\n",
    "    for sentence in sentences:\n",
    "        doc = nlp(sentence)\n",
    "        \n",
    "        if stop_words is not None:\n",
    "            keep_tokens_string = ' '.join([t.lemma_ for t in doc if t.pos_ in keep_types and t.lemma_ not in stop_words])\n",
    "        else:\n",
    "            keep_tokens_string = ' '.join([t.lemma_ for t in doc if t.pos_ in keep_types])\n",
    "        preprocessed_sentences.append(keep_tokens_string)\n",
    "    \n",
    "    return preprocessed_sentences"
   ]
  },
  {
   "cell_type": "code",
   "execution_count": 906,
   "metadata": {},
   "outputs": [],
   "source": [
    "page_reviews['Review']=pre_process_statements(page_reviews['Review'])"
   ]
  },
  {
   "cell_type": "code",
   "execution_count": 907,
   "metadata": {},
   "outputs": [],
   "source": [
    "page_reviews['Title']=pre_process_statements(page_reviews['Title'])"
   ]
  },
  {
   "cell_type": "code",
   "execution_count": 908,
   "metadata": {},
   "outputs": [],
   "source": [
    "page_reviews['Tokenized Sentence'] = page_reviews['Review'].apply(lambda row: nltk.word_tokenize(row))"
   ]
  },
  {
   "cell_type": "markdown",
   "metadata": {},
   "source": [
    "#### Creating new dataframes for high and low ratings:"
   ]
  },
  {
   "cell_type": "code",
   "execution_count": 909,
   "metadata": {},
   "outputs": [],
   "source": [
    "page_reviews_low = page_reviews[page_reviews['Rating']<=3]"
   ]
  },
  {
   "cell_type": "code",
   "execution_count": 910,
   "metadata": {},
   "outputs": [],
   "source": [
    "page_reviews_high = page_reviews[page_reviews['Rating']>3]"
   ]
  },
  {
   "cell_type": "code",
   "execution_count": 911,
   "metadata": {},
   "outputs": [],
   "source": [
    "from collections import Counter"
   ]
  },
  {
   "cell_type": "markdown",
   "metadata": {},
   "source": [
    "#### Plotting a word cloud for the two dataframes:"
   ]
  },
  {
   "cell_type": "code",
   "execution_count": 913,
   "metadata": {},
   "outputs": [],
   "source": [
    "from wordcloud import WordCloud\n",
    "def wordcloud_plot(lista):\n",
    "    lista_text = ' '.join(lista)\n",
    "    wc1 = WordCloud(background_color = \"White\", max_words = 2000,collocations=True)\n",
    "    wc1.generate(lista_text)\n",
    "    plt.imshow(wc1)\n",
    "    plt.axis('off')\n",
    "    plt.show()"
   ]
  },
  {
   "cell_type": "code",
   "execution_count": 914,
   "metadata": {},
   "outputs": [
    {
     "data": {
      "image/png": "[encoded data removed]",
      "text/plain": [
       "<Figure size 432x288 with 1 Axes>"
      ]
     },
     "metadata": {},
     "output_type": "display_data"
    }
   ],
   "source": [
    "wordcloud_plot(page_reviews_low['Review'])"
   ]
  },
  {
   "cell_type": "code",
   "execution_count": 915,
   "metadata": {},
   "outputs": [
    {
     "data": {
      "image/png": "[encoded data removed]",
      "text/plain": [
       "<Figure size 432x288 with 1 Axes>"
      ]
     },
     "metadata": {},
     "output_type": "display_data"
    }
   ],
   "source": [
    "wordcloud_plot(page_reviews_high['Review'])"
   ]
  },
  {
   "cell_type": "markdown",
   "metadata": {},
   "source": [
    "#### Seeing the number of different authors and how many reviews have they given:"
   ]
  },
  {
   "cell_type": "code",
   "execution_count": 984,
   "metadata": {},
   "outputs": [
    {
     "data": {
      "text/plain": [
       "Amazon Customer      77\n",
       "John                  4\n",
       "Chris                 4\n",
       "Dan                   3\n",
       "Ron                   3\n",
       "B                     3\n",
       "Cliente de Amazon     3\n",
       "Mike                  3\n",
       "Aaron                 3\n",
       "Eric                  3\n",
       "KC                    2\n",
       "Mark                  2\n",
       "Heather               2\n",
       "Nick                  2\n",
       "Joe                   2\n",
       "Jerry                 2\n",
       "Happy                 2\n",
       "Tony                  2\n",
       "Jeremy                2\n",
       "Walter                2\n",
       "Karlo                 1\n",
       "uclafan               1\n",
       "Kramer                1\n",
       "James L Bolen         1\n",
       "Random human          1\n",
       "R Merten              1\n",
       "Brent M.              1\n",
       "Clark Kent            1\n",
       "WI Farm Family        1\n",
       "Ray_Larry             1\n",
       "                     ..\n",
       "hieuman               1\n",
       "D. LaMarr             1\n",
       "Cleve Trevenen        1\n",
       "Stratto4              1\n",
       "circuitbored          1\n",
       "kbn                   1\n",
       "Harris                1\n",
       "Chance                1\n",
       "Bruce Robideau        1\n",
       "Se'iz Mir Gitt        1\n",
       "Noel the Pilot        1\n",
       "Picky Nancy           1\n",
       "Michael Mills         1\n",
       "Fuzzy Jones           1\n",
       "Anneudys H.           1\n",
       "Larry Ausley          1\n",
       "Villmater             1\n",
       "Bret Harris           1\n",
       "Geeksquad             1\n",
       "Penny Lane            1\n",
       "David Gunter          1\n",
       "D                     1\n",
       "Christine Knowlan     1\n",
       "Sandy Chen            1\n",
       "DBK_Cali              1\n",
       "Coconut eater         1\n",
       "Justin                1\n",
       "IanZ                  1\n",
       "Dpvoice               1\n",
       "ASH                   1\n",
       "Name: Author, Length: 918, dtype: int64"
      ]
     },
     "execution_count": 984,
     "metadata": {},
     "output_type": "execute_result"
    }
   ],
   "source": [
    "page_reviews['Author'].value_counts()"
   ]
  },
  {
   "cell_type": "markdown",
   "metadata": {},
   "source": [
    "#### Checking to see if the \"Amazon Customer\" reviews are not biased:"
   ]
  },
  {
   "cell_type": "code",
   "execution_count": 986,
   "metadata": {
    "scrolled": true
   },
   "outputs": [
    {
     "data": {
      "text/plain": [
       "[('bright', 22),\n",
       " ('great', 21),\n",
       " ('very', 20),\n",
       " ('have', 20),\n",
       " ('battery', 16),\n",
       " ('price', 16),\n",
       " ('good', 15),\n",
       " ('work', 14),\n",
       " ('turn', 12),\n",
       " ('little', 11)]"
      ]
     },
     "execution_count": 986,
     "metadata": {},
     "output_type": "execute_result"
    }
   ],
   "source": [
    "Counter(\" \".join(page_reviews['Review'][page_reviews['Author']=='Amazon Customer']).split()).most_common(10)"
   ]
  },
  {
   "cell_type": "code",
   "execution_count": 993,
   "metadata": {},
   "outputs": [],
   "source": [
    "rev_amazon_cust = page_reviews['Rating'][page_reviews['Author']=='Amazon Customer']"
   ]
  },
  {
   "cell_type": "code",
   "execution_count": 997,
   "metadata": {},
   "outputs": [
    {
     "data": {
      "text/plain": [
       "212    4.0\n",
       "780    4.0\n",
       "817    5.0\n",
       "469    5.0\n",
       "218    5.0\n",
       "Name: Rating, dtype: float64"
      ]
     },
     "execution_count": 997,
     "metadata": {},
     "output_type": "execute_result"
    }
   ],
   "source": [
    "rev_amazon_cust.head()"
   ]
  },
  {
   "cell_type": "code",
   "execution_count": 996,
   "metadata": {
    "scrolled": true
   },
   "outputs": [
    {
     "data": {
      "text/plain": [
       "<matplotlib.axes._subplots.AxesSubplot at 0x21305b3bc18>"
      ]
     },
     "execution_count": 996,
     "metadata": {},
     "output_type": "execute_result"
    },
    {
     "data": {
      "image/png": "[encoded data removed]",
      "text/plain": [
       "<Figure size 432x288 with 1 Axes>"
      ]
     },
     "metadata": {},
     "output_type": "display_data"
    }
   ],
   "source": [
    "rev_amazon_cust.hist()"
   ]
  },
  {
   "cell_type": "markdown",
   "metadata": {},
   "source": [
    "#### Creating bigrams for high and low ratings:"
   ]
  },
  {
   "cell_type": "code",
   "execution_count": 912,
   "metadata": {},
   "outputs": [],
   "source": [
    "import nltk\n",
    "\n",
    "from nltk import word_tokenize \n",
    "\n",
    "from nltk.util import ngrams\n",
    "\n",
    "\n",
    "def bigrams(doc):\n",
    "    list_of_b=[]\n",
    "    for line in doc:\n",
    "        token =nltk.word_tokenize(line)\n",
    "        list_of_b.extend(list(ngrams(token,2)))#3 for trigram\n",
    "    return list_of_b\n"
   ]
  },
  {
   "cell_type": "code",
   "execution_count": 918,
   "metadata": {
    "scrolled": true
   },
   "outputs": [
    {
     "data": {
      "text/plain": [
       "[('have', 412),\n",
       " ('bright', 409),\n",
       " ('battery', 305),\n",
       " ('great', 294),\n",
       " ('very', 293),\n",
       " ('use', 237),\n",
       " ('good', 219),\n",
       " ('price', 185),\n",
       " ('can', 178),\n",
       " ('small', 165)]"
      ]
     },
     "execution_count": 918,
     "metadata": {},
     "output_type": "execute_result"
    }
   ],
   "source": [
    "Counter(\" \".join(page_reviews_high['Review']).split()).most_common(10)"
   ]
  },
  {
   "cell_type": "code",
   "execution_count": 919,
   "metadata": {},
   "outputs": [
    {
     "data": {
      "text/plain": [
       "[('work', 111),\n",
       " ('have', 99),\n",
       " ('battery', 84),\n",
       " ('good', 59),\n",
       " ('get', 54),\n",
       " ('bright', 53),\n",
       " ('would', 46),\n",
       " ('very', 45),\n",
       " ('will', 45),\n",
       " ('use', 44)]"
      ]
     },
     "execution_count": 919,
     "metadata": {},
     "output_type": "execute_result"
    }
   ],
   "source": [
    "Counter(\" \".join(page_reviews_low['Review']).split()).most_common(10)"
   ]
  },
  {
   "cell_type": "code",
   "execution_count": 920,
   "metadata": {
    "scrolled": true
   },
   "outputs": [
    {
     "data": {
      "text/plain": [
       "[('star', 204),\n",
       " ('great', 144),\n",
       " ('bright', 98),\n",
       " ('good', 80),\n",
       " ('little', 64),\n",
       " ('very', 57),\n",
       " ('price', 53),\n",
       " ('small', 42),\n",
       " ('nice', 31),\n",
       " ('have', 28)]"
      ]
     },
     "execution_count": 920,
     "metadata": {},
     "output_type": "execute_result"
    }
   ],
   "source": [
    "Counter(\" \".join(page_reviews_high['Title']).split()).most_common(10)"
   ]
  },
  {
   "cell_type": "code",
   "execution_count": 921,
   "metadata": {},
   "outputs": [
    {
     "data": {
      "text/plain": [
       "[('star', 32),\n",
       " ('work', 17),\n",
       " ('quality', 14),\n",
       " ('good', 12),\n",
       " ('bright', 11),\n",
       " ('buy', 11),\n",
       " ('have', 10),\n",
       " ('great', 9),\n",
       " ('get', 8),\n",
       " ('bad', 8)]"
      ]
     },
     "execution_count": 921,
     "metadata": {},
     "output_type": "execute_result"
    }
   ],
   "source": [
    "Counter(\" \".join(page_reviews_low['Title']).split()).most_common(10)"
   ]
  },
  {
   "cell_type": "markdown",
   "metadata": {},
   "source": [
    "#### Splitting the variables and labels of the test data"
   ]
  },
  {
   "cell_type": "code",
   "execution_count": 922,
   "metadata": {},
   "outputs": [],
   "source": [
    "reviews_label=page_reviews['Class'].copy()\n",
    "page_reviews=page_reviews.drop('Class',axis=1)"
   ]
  },
  {
   "cell_type": "markdown",
   "metadata": {},
   "source": [
    "#### Confirming the same"
   ]
  },
  {
   "cell_type": "code",
   "execution_count": 923,
   "metadata": {},
   "outputs": [
    {
     "data": {
      "text/html": [
       "<div>\n",
       "<style scoped>\n",
       "    .dataframe tbody tr th:only-of-type {\n",
       "        vertical-align: middle;\n",
       "    }\n",
       "\n",
       "    .dataframe tbody tr th {\n",
       "        vertical-align: top;\n",
       "    }\n",
       "\n",
       "    .dataframe thead th {\n",
       "        text-align: right;\n",
       "    }\n",
       "</style>\n",
       "<table border=\"1\" class=\"dataframe\">\n",
       "  <thead>\n",
       "    <tr style=\"text-align: right;\">\n",
       "      <th></th>\n",
       "      <th>Author</th>\n",
       "      <th>Comment(s)</th>\n",
       "      <th>Date</th>\n",
       "      <th>Rating</th>\n",
       "      <th>Review</th>\n",
       "      <th>Title</th>\n",
       "      <th>Month</th>\n",
       "      <th>Review_length</th>\n",
       "      <th>Tokenized Sentence</th>\n",
       "    </tr>\n",
       "  </thead>\n",
       "  <tbody>\n",
       "    <tr>\n",
       "      <th>1108</th>\n",
       "      <td>eugef</td>\n",
       "      <td>One person found this helpful.</td>\n",
       "      <td>2013-03-08</td>\n",
       "      <td>3.0</td>\n",
       "      <td>take while get door however worth wait solid p...</td>\n",
       "      <td>solid beware seller</td>\n",
       "      <td>3</td>\n",
       "      <td>476</td>\n",
       "      <td>[take, while, get, door, however, worth, wait,...</td>\n",
       "    </tr>\n",
       "    <tr>\n",
       "      <th>1029</th>\n",
       "      <td>Gerard W Salvia</td>\n",
       "      <td>One person found this helpful.</td>\n",
       "      <td>2013-07-11</td>\n",
       "      <td>5.0</td>\n",
       "      <td>great handy work just have glove box use daily...</td>\n",
       "      <td>awesome</td>\n",
       "      <td>7</td>\n",
       "      <td>111</td>\n",
       "      <td>[great, handy, work, just, have, glove, box, u...</td>\n",
       "    </tr>\n",
       "    <tr>\n",
       "      <th>128</th>\n",
       "      <td>diesel</td>\n",
       "      <td>2 people found this helpful.</td>\n",
       "      <td>2017-12-23</td>\n",
       "      <td>1.0</td>\n",
       "      <td>could give product zero would absolutely terri...</td>\n",
       "      <td>absolutely terrible trash have yet work properly</td>\n",
       "      <td>12</td>\n",
       "      <td>168</td>\n",
       "      <td>[could, give, product, zero, would, absolutely...</td>\n",
       "    </tr>\n",
       "    <tr>\n",
       "      <th>212</th>\n",
       "      <td>Amazon Customer</td>\n",
       "      <td></td>\n",
       "      <td>2017-10-31</td>\n",
       "      <td>4.0</td>\n",
       "      <td>handy know how long battery last yet still too...</td>\n",
       "      <td>good product</td>\n",
       "      <td>10</td>\n",
       "      <td>74</td>\n",
       "      <td>[handy, know, how, long, battery, last, yet, s...</td>\n",
       "    </tr>\n",
       "    <tr>\n",
       "      <th>1012</th>\n",
       "      <td>tom</td>\n",
       "      <td></td>\n",
       "      <td>2013-08-26</td>\n",
       "      <td>5.0</td>\n",
       "      <td>really impressed give small size adjustable ca...</td>\n",
       "      <td></td>\n",
       "      <td>8</td>\n",
       "      <td>477</td>\n",
       "      <td>[really, impressed, give, small, size, adjusta...</td>\n",
       "    </tr>\n",
       "  </tbody>\n",
       "</table>\n",
       "</div>"
      ],
      "text/plain": [
       "               Author                      Comment(s)       Date  Rating  \\\n",
       "1108            eugef  One person found this helpful. 2013-03-08     3.0   \n",
       "1029  Gerard W Salvia  One person found this helpful. 2013-07-11     5.0   \n",
       "128            diesel    2 people found this helpful. 2017-12-23     1.0   \n",
       "212   Amazon Customer                                 2017-10-31     4.0   \n",
       "1012              tom                                 2013-08-26     5.0   \n",
       "\n",
       "                                                 Review  \\\n",
       "1108  take while get door however worth wait solid p...   \n",
       "1029  great handy work just have glove box use daily...   \n",
       "128   could give product zero would absolutely terri...   \n",
       "212   handy know how long battery last yet still too...   \n",
       "1012  really impressed give small size adjustable ca...   \n",
       "\n",
       "                                                 Title  Month  Review_length  \\\n",
       "1108                               solid beware seller      3            476   \n",
       "1029                                           awesome      7            111   \n",
       "128   absolutely terrible trash have yet work properly     12            168   \n",
       "212                                       good product     10             74   \n",
       "1012                                                        8            477   \n",
       "\n",
       "                                     Tokenized Sentence  \n",
       "1108  [take, while, get, door, however, worth, wait,...  \n",
       "1029  [great, handy, work, just, have, glove, box, u...  \n",
       "128   [could, give, product, zero, would, absolutely...  \n",
       "212   [handy, know, how, long, battery, last, yet, s...  \n",
       "1012  [really, impressed, give, small, size, adjusta...  "
      ]
     },
     "execution_count": 923,
     "metadata": {},
     "output_type": "execute_result"
    }
   ],
   "source": [
    "page_reviews.head()"
   ]
  },
  {
   "cell_type": "markdown",
   "metadata": {},
   "source": [
    "#### Creating a custom transformer for cleaning the reviews"
   ]
  },
  {
   "cell_type": "code",
   "execution_count": 924,
   "metadata": {},
   "outputs": [],
   "source": [
    "from sklearn.base import BaseEstimator, TransformerMixin"
   ]
  },
  {
   "cell_type": "code",
   "execution_count": 925,
   "metadata": {},
   "outputs": [],
   "source": [
    "class PreProcessor(BaseEstimator,TransformerMixin):\n",
    "    def __init__(self, pos_to_keep=('NOUN', 'ADJ', 'VERB','ADV'), stop_words=None):\n",
    "        self.pos_to_keep = pos_to_keep\n",
    "        self.stop_words = stop_words\n",
    "        \n",
    "    def fit(self, X, y=None):\n",
    "        return self\n",
    "    \n",
    "    def transform(self,X):\n",
    "        preprocessed_sentences = []\n",
    "        \n",
    "        for doc in nlp.pipe(X, n_threads=8):\n",
    "            if self.stop_words is not None:\n",
    "                keep_tokens_string = ' '.join([t.lemma_ for t in doc if t.pos_ in self.pos_to_keep and t.lemma_ not in self.stop_words])\n",
    "            else:\n",
    "                keep_tokens_string = ' '.join([t.lemma_ for t in doc if t.pos_ in self.pos_to_keep])\n",
    "            preprocessed_sentences.append(keep_tokens_string)\n",
    "    \n",
    "        return preprocessed_sentences"
   ]
  },
  {
   "cell_type": "markdown",
   "metadata": {},
   "source": [
    "#### Using SMOTE to oversample with \"SVM\" algorithm"
   ]
  },
  {
   "cell_type": "code",
   "execution_count": 926,
   "metadata": {},
   "outputs": [],
   "source": [
    "from imblearn.over_sampling import SMOTE\n",
    "smt = SMOTE(random_state=42)"
   ]
  },
  {
   "cell_type": "markdown",
   "metadata": {},
   "source": [
    "#### Creating a pipeline for doing logistoc regression and checking the accuracy of the same"
   ]
  },
  {
   "cell_type": "code",
   "execution_count": 927,
   "metadata": {},
   "outputs": [],
   "source": [
    "from imblearn.pipeline import Pipeline\n",
    "from sklearn.linear_model import LogisticRegression\n",
    "text_clf = Pipeline([('prep',PreProcessor(stop_words=stop_words)),\n",
    "                     ('vect', CountVectorizer(ngram_range=(1,1))),\n",
    "                     ('tfidf', TfidfTransformer()),\n",
    "                     ('smt',SMOTE(random_state=42,k_neighbors=5,kind='svm')),\n",
    "                     ('lr', LogisticRegression(C=0.8))\n",
    "                    ])"
   ]
  },
  {
   "cell_type": "code",
   "execution_count": 928,
   "metadata": {},
   "outputs": [
    {
     "data": {
      "text/plain": [
       "Pipeline(memory=None,\n",
       "     steps=[('prep', PreProcessor(pos_to_keep=('NOUN', 'ADJ', 'VERB', 'ADV'),\n",
       "       stop_words={'-PRON-', 'not', 'what', 'light', 'be', 'do', 'flashlight', 'flash', 'other'})), ('vect', CountVectorizer(analyzer='word', binary=False, decode_error='strict',\n",
       "        dtype=<class 'numpy.int64'>, encoding='u...ty='l2', random_state=None, solver='liblinear', tol=0.0001,\n",
       "          verbose=0, warm_start=False))])"
      ]
     },
     "execution_count": 928,
     "metadata": {},
     "output_type": "execute_result"
    }
   ],
   "source": [
    "text_clf.fit(page_reviews['Review'],reviews_label)"
   ]
  },
  {
   "cell_type": "code",
   "execution_count": 929,
   "metadata": {},
   "outputs": [
    {
     "data": {
      "text/plain": [
       "0.86328125"
      ]
     },
     "execution_count": 929,
     "metadata": {},
     "output_type": "execute_result"
    }
   ],
   "source": [
    "import numpy as np\n",
    "predicted = text_clf.predict(page_rev_test_dat['Review'])\n",
    "np.mean(predicted==page_rev_label)\n"
   ]
  },
  {
   "cell_type": "markdown",
   "metadata": {},
   "source": [
    "#### Creating a pipeline for random forest and checking the accuracy on test data"
   ]
  },
  {
   "cell_type": "code",
   "execution_count": 969,
   "metadata": {},
   "outputs": [],
   "source": [
    "from sklearn.linear_model import SGDClassifier\n",
    "from imblearn.over_sampling import RandomOverSampler\n",
    "from imblearn.pipeline import Pipeline\n",
    "from sklearn.ensemble import RandomForestClassifier\n",
    "class_weights=[{1:1},{2:4},{3:1},{4:1},{5:7},{6:2},{7:1},{8:1},{9:1},{10:4}]\n",
    "text_sgd = Pipeline([('prep',PreProcessor(stop_words=stop_words)),\n",
    "                     ('vect', CountVectorizer()),\n",
    "                     ('tfidf', TfidfTransformer()),\n",
    "                     ('ros',SMOTE(random_state=42)),\n",
    "                     ('rfc',RandomForestClassifier(n_estimators=20,random_state=4))\n",
    "                    ])"
   ]
  },
  {
   "cell_type": "code",
   "execution_count": 970,
   "metadata": {},
   "outputs": [],
   "source": [
    "from sklearn.pipeline import FeatureUnion"
   ]
  },
  {
   "cell_type": "code",
   "execution_count": 971,
   "metadata": {},
   "outputs": [
    {
     "data": {
      "text/plain": [
       "Pipeline(memory=None,\n",
       "     steps=[('prep', PreProcessor(pos_to_keep=('NOUN', 'ADJ', 'VERB', 'ADV'),\n",
       "       stop_words={'-PRON-', 'not', 'what', 'light', 'be', 'do', 'flashlight', 'flash', 'other'})), ('vect', CountVectorizer(analyzer='word', binary=False, decode_error='strict',\n",
       "        dtype=<class 'numpy.int64'>, encoding='u...estimators=20, n_jobs=1,\n",
       "            oob_score=False, random_state=4, verbose=0, warm_start=False))])"
      ]
     },
     "execution_count": 971,
     "metadata": {},
     "output_type": "execute_result"
    }
   ],
   "source": [
    "text_sgd.fit(page_reviews['Review'],reviews_label)"
   ]
  },
  {
   "cell_type": "code",
   "execution_count": 972,
   "metadata": {},
   "outputs": [],
   "source": [
    "pipe_rf = text_sgd.named_steps['rfc']"
   ]
  },
  {
   "cell_type": "code",
   "execution_count": 973,
   "metadata": {},
   "outputs": [
    {
     "data": {
      "text/plain": [
       "0.8515625"
      ]
     },
     "execution_count": 973,
     "metadata": {},
     "output_type": "execute_result"
    }
   ],
   "source": [
    "import numpy as np\n",
    "predicted = text_sgd.predict(page_rev_test_dat['Review'])\n",
    "np.mean(predicted==page_rev_label)\n"
   ]
  },
  {
   "cell_type": "markdown",
   "metadata": {},
   "source": [
    "#### From the above assignment, I believe that Logistic Regression has a higher accuracy in terms of predicting the rating depending upon the words used in the reviews. It may so happen that for another dataset, the accuracy may not remain the same. Considering we have limited amount of sample points in this dataset, we are left with no alternative but to choose Logistic Regression as our go to estimator."
   ]
  },
  {
   "cell_type": "code",
   "execution_count": null,
   "metadata": {},
   "outputs": [],
   "source": []
  }
 ],
 "metadata": {
  "kernelspec": {
   "display_name": "Python 3",
   "language": "python",
   "name": "python3"
  },
  "language_info": {
   "codemirror_mode": {
    "name": "ipython",
    "version": 3
   },
   "file_extension": ".py",
   "mimetype": "text/x-python",
   "name": "python",
   "nbconvert_exporter": "python",
   "pygments_lexer": "ipython3",
   "version": "3.5.5"
  }
 },
 "nbformat": 4,
 "nbformat_minor": 2
}
